{
 "cells": [
  {
   "cell_type": "markdown",
   "metadata": {
    "tags": [
     "parameters"
    ]
   },
   "source": [
    "Q.1 Create a null vector of size 10 but the fifth value which is 1."
   ]
  },
  {
   "cell_type": "code",
   "execution_count": 1,
   "metadata": {},
   "outputs": [
    {
     "name": "stdout",
     "output_type": "stream",
     "text": [
      "[0. 0. 0. 0. 1. 0. 0. 0. 0. 0.]\n"
     ]
    }
   ],
   "source": [
    "import numpy as np\n",
    "\n",
    "n_vector = np.zeros(10)\n",
    "n_vector[4] = 1\n",
    "print(n_vector)"
   ]
  },
  {
   "cell_type": "markdown",
   "metadata": {},
   "source": [
    "Q.2 Create a vector with values ranging from 10 to 49."
   ]
  },
  {
   "cell_type": "code",
   "execution_count": 2,
   "metadata": {},
   "outputs": [
    {
     "name": "stdout",
     "output_type": "stream",
     "text": [
      "[10 11 12 13 14 15 16 17 18 19 20 21 22 23 24 25 26 27 28 29 30 31 32 33\n",
      " 34 35 36 37 38 39 40 41 42 43 44 45 46 47 48 49]\n"
     ]
    }
   ],
   "source": [
    "vector = np.arange(10,50)\n",
    "print(vector)"
   ]
  },
  {
   "cell_type": "markdown",
   "metadata": {},
   "source": [
    "Q.3 Create a 3x3 matrix with values ranging from 0 to 8."
   ]
  },
  {
   "cell_type": "code",
   "execution_count": 5,
   "metadata": {},
   "outputs": [
    {
     "name": "stdout",
     "output_type": "stream",
     "text": [
      "[[0 1 2]\n",
      " [3 4 5]\n",
      " [6 7 8]]\n"
     ]
    }
   ],
   "source": [
    "value = np.arange(0,9)\n",
    "matrix = value.reshape(3,3)\n",
    "print(matrix)"
   ]
  },
  {
   "cell_type": "markdown",
   "metadata": {},
   "source": [
    "Q.4 Find indices of non-zero elements from [1,2,0,0,4,0]."
   ]
  },
  {
   "cell_type": "code",
   "execution_count": 6,
   "metadata": {},
   "outputs": [
    {
     "name": "stdout",
     "output_type": "stream",
     "text": [
      "(array([0, 1, 4], dtype=int64),)\n"
     ]
    }
   ],
   "source": [
    "array_1 = np.array([1,2,0,0,4,0])\n",
    "nonzero_elements = np.nonzero(array_1)\n",
    "print(nonzero_elements)"
   ]
  },
  {
   "cell_type": "markdown",
   "metadata": {},
   "source": [
    "Q.5 Create a 10x10 array with random values and find the minimum and maximum values."
   ]
  },
  {
   "cell_type": "code",
   "execution_count": 11,
   "metadata": {},
   "outputs": [
    {
     "name": "stdout",
     "output_type": "stream",
     "text": [
      "Array :  [[0.2947426  0.99207363 0.9237201  0.09775897 0.58346908 0.2383964\n",
      "  0.46622509 0.91660678 0.61532955 0.55487792]\n",
      " [0.71785764 0.79927392 0.75727339 0.33180448 0.65154501 0.73333969\n",
      "  0.16455516 0.96834893 0.9061617  0.26160115]\n",
      " [0.17960949 0.82406656 0.1966428  0.07489553 0.37082106 0.94345121\n",
      "  0.22144309 0.34849648 0.48662362 0.97409951]\n",
      " [0.84590804 0.24081507 0.73953812 0.10219562 0.8475617  0.52689304\n",
      "  0.34119028 0.17603218 0.23596649 0.85634539]\n",
      " [0.90482071 0.58073842 0.40118992 0.74006568 0.18153226 0.31808623\n",
      "  0.04128224 0.45440199 0.59874214 0.16310716]\n",
      " [0.8998532  0.82374713 0.31411688 0.14009789 0.33287951 0.20770117\n",
      "  0.73711949 0.77619632 0.40835054 0.83691681]\n",
      " [0.8778737  0.27826623 0.71258722 0.55477098 0.94337479 0.80164091\n",
      "  0.75083083 0.47038164 0.39033441 0.81894129]\n",
      " [0.93040076 0.27618173 0.14242704 0.8676206  0.27879312 0.61541287\n",
      "  0.4286275  0.61333395 0.10136539 0.01737074]\n",
      " [0.74229225 0.00418555 0.89377237 0.40739614 0.42187438 0.05008808\n",
      "  0.81119137 0.97101903 0.09083484 0.65286296]\n",
      " [0.17492434 0.3255151  0.63202484 0.19840984 0.25372594 0.39020322\n",
      "  0.0514587  0.66921058 0.61527379 0.03229887]]\n",
      "Minimum Value :  0.004185547473743223\n",
      "Maximum Value :  0.9920736326461737\n"
     ]
    }
   ],
   "source": [
    "array_2 = np.random.rand(10,10)\n",
    "min_value = np.min(array_2)\n",
    "max_value = np.max(array_2)\n",
    "print(\"Array : \", array_2)\n",
    "print(\"Minimum Value : \", min_value)\n",
    "print(\"Maximum Value : \", max_value)"
   ]
  },
  {
   "cell_type": "markdown",
   "metadata": {},
   "source": [
    "Q.6 Create a random vector of size 30 and find the mean value."
   ]
  },
  {
   "cell_type": "code",
   "execution_count": 15,
   "metadata": {},
   "outputs": [
    {
     "name": "stdout",
     "output_type": "stream",
     "text": [
      "Array :  [0.65410399 0.05993152 0.66697269 0.61804179 0.77297403 0.29702152\n",
      " 0.33681248 0.16005617 0.26502368 0.55998991 0.41521847 0.81585841\n",
      " 0.38584009 0.1369388  0.65051118 0.18657531 0.949323   0.51674484\n",
      " 0.91212138 0.43973776 0.96696198 0.64959042 0.79167151 0.06368304\n",
      " 0.32324383 0.15053426 0.28177478 0.77102293 0.24136126 0.07975644]\n",
      "Mean Value of the Array :  0.47064658335118387\n"
     ]
    }
   ],
   "source": [
    "Vector = np.random.random(30)\n",
    "print(\"Array : \", Vector)\n",
    "Mean_value = Vector.mean()\n",
    "print(\"Mean Value of the Array : \",Mean_value)"
   ]
  },
  {
   "cell_type": "code",
   "execution_count": null,
   "metadata": {},
   "outputs": [],
   "source": []
  }
 ],
 "metadata": {
  "kernelspec": {
   "display_name": "Python 3",
   "language": "python",
   "name": "python3"
  },
  "language_info": {
   "codemirror_mode": {
    "name": "ipython",
    "version": 3
   },
   "file_extension": ".py",
   "mimetype": "text/x-python",
   "name": "python",
   "nbconvert_exporter": "python",
   "pygments_lexer": "ipython3",
   "version": "3.11.3"
  },
  "orig_nbformat": 4
 },
 "nbformat": 4,
 "nbformat_minor": 2
}
